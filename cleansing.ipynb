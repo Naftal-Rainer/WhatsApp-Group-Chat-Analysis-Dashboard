{
 "cells": [
  {
   "cell_type": "markdown",
   "metadata": {},
   "source": [
    "# **WHATSAPP CHAT ANALYZER**\n",
    "\n",
    "## Table of Contents\n",
    "<ul>\n",
    "<li><a href=\"#intro\">Introduction</a></li>\n",
    "<li><a href=\"#extraction\">Data Extraction</a></li>\n",
    "<li><a href=\"#wrangling\">Data Wrangling</a></li>\n",
    "<li><a href=\"#eda\">Exploratory Data Analysis</a></li>\n",
    "<li><a href=\"#conclusions\">Conclusions</a></li>\n",
    "</ul>\n"
   ]
  },
  {
   "cell_type": "markdown",
   "metadata": {},
   "source": [
    "\n",
    "<a id='intro'></a>\n",
    "## Introduction\n",
    "    \n",
    "WhatsApp has become one of the most trendy social media platform. WhatsApp Chat Analyzer means is a platform that tracks our conversation and analyses group activities and how much time we\n",
    "are spending  on WhatsApp. \n"
   ]
  },
  {
   "cell_type": "markdown",
   "metadata": {},
   "source": [
    "<a id='extraction'></a>\n",
    "## Data Extraction\n",
    "\n",
    "I used different python libraries to extract useful information from raw whatsapp data data\n",
    "\n",
    "#### Import Required Libraries"
   ]
  },
  {
   "cell_type": "code",
   "execution_count": 1,
   "metadata": {},
   "outputs": [],
   "source": [
    "import numpy as np \n",
    "import pandas as pd  \n",
    "import matplotlib.pyplot as plt \n",
    "from seaborn import * \n",
    "import seaborn as sns \n",
    "%matplotlib inline \n",
    "from datetime import * \n",
    "import datetime as dt \n",
    "from matplotlib.ticker import MaxNLocator \n",
    "import emoji\n",
    "# from heatmap import heatmap \n",
    "from wordcloud import WordCloud , STOPWORDS ,ImageColorGenerator \n",
    "# from nltk import * \n",
    "from plotly import express as px\n",
    "\n",
    "import os \n",
    "import re\n",
    "import warnings \n",
    "warnings.filterwarnings('ignore')"
   ]
  },
  {
   "cell_type": "markdown",
   "metadata": {},
   "source": [
    "Extract date and time"
   ]
  },
  {
   "cell_type": "code",
   "execution_count": 2,
   "metadata": {},
   "outputs": [],
   "source": [
    "def extractDateAndTime(s):\n",
    "    pattern = '^([0-9]+)(/)([0-9]+)(/)([0-9][0-9]), ([0-9]+):([0-9][0-9]) (AM|PM) -'\n",
    "    result = re.match(pattern, s)\n",
    "    if result:\n",
    "        return True\n",
    "    return False\n"
   ]
  },
  {
   "cell_type": "markdown",
   "metadata": {},
   "source": [
    "Extract username and author"
   ]
  },
  {
   "cell_type": "code",
   "execution_count": 51,
   "metadata": {},
   "outputs": [],
   "source": [
    "def findAuthor(s): \n",
    "    patterns = ['([w]+):', # First Name \n",
    "                '([w]+[s]+[w]+):', # First Name + Last Name \n",
    "                '([w]+[s]+[w]+[s]+[w]+):', # First Name + Middle Name + Last Name \n",
    "                '([+]d{2} d{5} d{5}):', # Mobile Number (India no.) \n",
    "                '([+]d{2} d{3} d{3} d{4}):', # Mobile Number (US no.) \n",
    "                '([+]d{3} d{3} d{6}):', # Mobile Number (Kenya no.) \n",
    "                '([w]+)[u263a - U0001f999]+:', # Name and Emoji \n",
    "                ]\n",
    "    \n",
    "    pattern = '^ (([w]+):) | (([w]+[s]+[w]+):) | (([w]+[s]+[w]+[s]+[w]+):) | (([+]d{2} d{5} d{5}):) | (([+]d{2} d{3} d{3} d{4})) | (([+]d{3} d{3} d{6}):) | (([w]+)[u263a - U0001f999]+:)'\n",
    "                \n",
    "     \n",
    "    # pattern = '^' + ' | '.join(patterns) \n",
    "    result = re.match(pattern, s) \n",
    "    if result: \n",
    "        return True \n",
    "    return False "
   ]
  },
  {
   "cell_type": "code",
   "execution_count": 52,
   "metadata": {},
   "outputs": [
    {
     "data": {
      "text/plain": [
       "False"
      ]
     },
     "execution_count": 52,
     "metadata": {},
     "output_type": "execute_result"
    }
   ],
   "source": [
    "s = 'Millionaires Mind: Give Baba to campaign with.'\n",
    "findAuthor(s)"
   ]
  },
  {
   "cell_type": "code",
   "execution_count": null,
   "metadata": {},
   "outputs": [],
   "source": [
    "# def getDataPoint(line): \n",
    "#     splitLine = line.split(' - ') \n",
    "#     dateTime = splitLine[0] \n",
    "#     date, time = dateTime.split(',') \n",
    "#     message = ' '.join(splitLine[1:]) \n",
    "#     if findAuthor(message): \n",
    "#         splitMessage = message.split(': ') \n",
    "#         author = splitMessage[0] \n",
    "#         message = ' '.join(splitMessage[1:])\n",
    "#     else: \n",
    "#         author = None \n",
    "#     return date, time, author, message\n"
   ]
  },
  {
   "cell_type": "code",
   "execution_count": 55,
   "metadata": {},
   "outputs": [
    {
     "data": {
      "text/plain": [
       "('3/22/22', ' 11:49 PM', 'Millionaires Mind', 'Give Baba to campaign with.')"
      ]
     },
     "execution_count": 55,
     "metadata": {},
     "output_type": "execute_result"
    }
   ],
   "source": [
    "def getDataPoint(line): \n",
    "    splitLine = line.split(' - ') \n",
    "    dateTime = splitLine[0] \n",
    "    date, time = dateTime.split(',') \n",
    "    message = ' '.join(splitLine[1:]) \n",
    "    splitMessage = message.split(': ') \n",
    "    authorInfo = splitMessage[0] \n",
    "    message = ' '.join(splitMessage[1:])\n",
    "    return date, time, authorInfo, message\n",
    "\n",
    "s = '3/22/22, 11:49 PM - Millionaires Mind: Give Baba to campaign with.'\n",
    "getDataPoint(s)\n"
   ]
  },
  {
   "cell_type": "markdown",
   "metadata": {},
   "source": [
    "Creating dataframe"
   ]
  },
  {
   "cell_type": "code",
   "execution_count": 58,
   "metadata": {},
   "outputs": [],
   "source": [
    "parsedData = []\n",
    "with open('Data\\WhatsApp Chat with Voice of the Youth (VOY).txt', 'r' , encoding=\"utf8\") as f:\n",
    "    f.readline() # Skip first line\n",
    "    messageBuffer = [] \n",
    "    date, time, author = None, None, None \n",
    "    while True: \n",
    "        line = f.readline() \n",
    "        if not line: \n",
    "            break \n",
    "        line = line.strip() \n",
    "        if extractDateAndTime(line): \n",
    "            if len(messageBuffer) > 0: \n",
    "                parsedData.append([date, time, authorInfo, ' '.join(messageBuffer)]) \n",
    "                messageBuffer.clear() \n",
    "                date, time, authorInfo, message = getDataPoint(line)\n",
    "                messageBuffer.append(message) \n",
    "        else: \n",
    "            messageBuffer.append(line) \n",
    "df = pd.DataFrame(parsedData, columns=['Date','Time', 'AuthorInfo', 'Message']) # Initialising a pandas Dataframe. ### changing datatype of \"Date\" column.\n",
    "df[\"Date\"] = pd.to_datetime(df[\"Date\"])\n"
   ]
  },
  {
   "cell_type": "code",
   "execution_count": 65,
   "metadata": {},
   "outputs": [
    {
     "data": {
      "text/html": [
       "<div>\n",
       "<style scoped>\n",
       "    .dataframe tbody tr th:only-of-type {\n",
       "        vertical-align: middle;\n",
       "    }\n",
       "\n",
       "    .dataframe tbody tr th {\n",
       "        vertical-align: top;\n",
       "    }\n",
       "\n",
       "    .dataframe thead th {\n",
       "        text-align: right;\n",
       "    }\n",
       "</style>\n",
       "<table border=\"1\" class=\"dataframe\">\n",
       "  <thead>\n",
       "    <tr style=\"text-align: right;\">\n",
       "      <th></th>\n",
       "      <th>Date</th>\n",
       "      <th>Time</th>\n",
       "      <th>AuthorInfo</th>\n",
       "      <th>Message</th>\n",
       "    </tr>\n",
       "  </thead>\n",
       "  <tbody>\n",
       "    <tr>\n",
       "      <th>935</th>\n",
       "      <td>2022-09-15</td>\n",
       "      <td>1:58 PM</td>\n",
       "      <td>Toko Tai 💫</td>\n",
       "      <td>&lt;Media omitted&gt;</td>\n",
       "    </tr>\n",
       "    <tr>\n",
       "      <th>936</th>\n",
       "      <td>2022-09-16</td>\n",
       "      <td>4:34 PM</td>\n",
       "      <td>+254 710 835708</td>\n",
       "      <td>Anyone, Mombasa to kismu ni how much by bus</td>\n",
       "    </tr>\n",
       "    <tr>\n",
       "      <th>937</th>\n",
       "      <td>2022-09-16</td>\n",
       "      <td>4:49 PM</td>\n",
       "      <td>+254 704 932171</td>\n",
       "      <td>2500 Ena Coach</td>\n",
       "    </tr>\n",
       "    <tr>\n",
       "      <th>938</th>\n",
       "      <td>2022-09-16</td>\n",
       "      <td>5:53 PM</td>\n",
       "      <td>Ochanda</td>\n",
       "      <td>&lt;Media omitted&gt;</td>\n",
       "    </tr>\n",
       "    <tr>\n",
       "      <th>939</th>\n",
       "      <td>2022-09-16</td>\n",
       "      <td>6:14 PM</td>\n",
       "      <td>+254 710 835708</td>\n",
       "      <td>Smart</td>\n",
       "    </tr>\n",
       "  </tbody>\n",
       "</table>\n",
       "</div>"
      ],
      "text/plain": [
       "          Date      Time       AuthorInfo  \\\n",
       "935 2022-09-15   1:58 PM       Toko Tai 💫   \n",
       "936 2022-09-16   4:34 PM  +254 710 835708   \n",
       "937 2022-09-16   4:49 PM  +254 704 932171   \n",
       "938 2022-09-16   5:53 PM          Ochanda   \n",
       "939 2022-09-16   6:14 PM  +254 710 835708   \n",
       "\n",
       "                                         Message  \n",
       "935                    <Media omitted>            \n",
       "936  Anyone, Mombasa to kismu ni how much by bus  \n",
       "937                     2500 Ena Coach            \n",
       "938                    <Media omitted>            \n",
       "939                         Smart                 "
      ]
     },
     "execution_count": 65,
     "metadata": {},
     "output_type": "execute_result"
    }
   ],
   "source": [
    "df[\"Message\"]= df[\"Message\"].str.pad(3, side ='both')\n",
    "df[\"AuthorInfo\"]= df[\"AuthorInfo\"].str.pad(0, side ='left')\n",
    "df.tail()\n"
   ]
  },
  {
   "cell_type": "markdown",
   "metadata": {},
   "source": [
    "Save the xtracted dataframe"
   ]
  },
  {
   "cell_type": "code",
   "execution_count": 66,
   "metadata": {},
   "outputs": [],
   "source": [
    "df.to_csv('Data\\extractedData.csv', index=False)"
   ]
  }
 ],
 "metadata": {
  "kernelspec": {
   "display_name": "Python 3.9.12 ('base')",
   "language": "python",
   "name": "python3"
  },
  "language_info": {
   "codemirror_mode": {
    "name": "ipython",
    "version": 3
   },
   "file_extension": ".py",
   "mimetype": "text/x-python",
   "name": "python",
   "nbconvert_exporter": "python",
   "pygments_lexer": "ipython3",
   "version": "3.9.12"
  },
  "orig_nbformat": 4,
  "vscode": {
   "interpreter": {
    "hash": "a077222d77dfe082b8f1dd562ad70e458ac2ab76993a0b248ab0476e32e9e8dd"
   }
  }
 },
 "nbformat": 4,
 "nbformat_minor": 2
}
